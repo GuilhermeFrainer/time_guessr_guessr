{
 "cells": [
  {
   "cell_type": "code",
   "execution_count": 1,
   "metadata": {},
   "outputs": [],
   "source": [
    "import utils\n",
    "import pathlib\n",
    "utils.mount_src()\n",
    "\n",
    "from data_loader import DataLoader\n",
    "\n",
    "CONFIG = utils.load_config()\n",
    "DATA_PATH = CONFIG[\"images_path\"]\n",
    "MODEL_PATH = pathlib.Path(\"../models\")\n",
    "EPOCHS = 20\n",
    "INPUT_SHAPE = (224, 224, 3)"
   ]
  },
  {
   "cell_type": "code",
   "execution_count": 2,
   "metadata": {},
   "outputs": [],
   "source": [
    "LOSS = {\"year_output\": \"mse\", \"lat_output\": \"mse\", \"lon_output\": \"mse\"}\n",
    "METRICS = {\"year_output\": [\"mae\"], \"lat_output\": [\"mae\"], \"lon_output\": [\"mae\"]}"
   ]
  },
  {
   "cell_type": "code",
   "execution_count": 3,
   "metadata": {},
   "outputs": [],
   "source": [
    "from tensorflow import keras\n",
    "\n",
    "def model_traning_pipeline(model: keras.Model, data_path: str, epochs=10, target_size=(224, 224), callbacks=None):\n",
    "    data_loader = DataLoader(data_path)\n",
    "    train_dataset, test_dataset = data_loader.dataset(target_size=target_size)\n",
    "    \n",
    "    history = model.fit(\n",
    "        train_dataset,\n",
    "        epochs=epochs,\n",
    "        validation_data=test_dataset,\n",
    "        callbacks=callbacks\n",
    "    )\n",
    "    return {\"model\": model, \"history\": history}"
   ]
  },
  {
   "cell_type": "code",
   "execution_count": 4,
   "metadata": {},
   "outputs": [],
   "source": [
    "def train_models(ms: list[keras.Model], names: list[str]) -> dict[dict]:\n",
    "    out = {}\n",
    "    for m, n in zip(ms, names):\n",
    "        callbacks = [\n",
    "            keras.callbacks.ModelCheckpoint(\n",
    "                filepath=MODEL_PATH / f\"{n}.keras\",\n",
    "                save_best_only=True,\n",
    "                monitor=\"val_year_output_mse\",\n",
    "                mode=\"min\"\n",
    "            ),\n",
    "            keras.callbacks.ModelCheckpoint(\n",
    "                filepath=MODEL_PATH / f\"{n}.keras\",\n",
    "                save_best_only=True,\n",
    "                monitor=\"val_lat_output_mse\",\n",
    "                mode=\"min\"\n",
    "            ),\n",
    "            keras.callbacks.ModelCheckpoint(\n",
    "                filepath=MODEL_PATH / f\"{n}.keras\",\n",
    "                save_best_only=True,\n",
    "                monitor=\"val_lon_output_mse\",\n",
    "                mode=\"min\"\n",
    "            )\n",
    "        ]\n",
    "        model_training_results = model_traning_pipeline(m, DATA_PATH, epochs=EPOCHS, callbacks=callbacks)\n",
    "        out[n] = model_training_results\n",
    "    return out"
   ]
  },
  {
   "cell_type": "code",
   "execution_count": null,
   "metadata": {},
   "outputs": [],
   "source": [
    "from tensorflow.keras.applications import EfficientNetB3\n",
    "from tensorflow.keras import layers\n",
    "import tensorflow as tf\n",
    "\n",
    "def create_efficient_net() -> keras.Model:\n",
    "    base_model = EfficientNetB3(weights=\"imagenet\", include_top=False, input_shape=INPUT_SHAPE)\n",
    "    base_model.trainable = False\n",
    "\n",
    "    inputs = layers.Input(shape=INPUT_SHAPE)\n",
    "    x = layers.Rescaling(1./255)(inputs)\n",
    "    x = base_model(inputs, training=False)\n",
    "    x = layers.GlobalAveragePooling2D()(x)\n",
    "    x = layers.Dense(128, activation=\"relu\")(x)\n",
    "\n",
    "    output_year = tf.keras.layers.Dense(1, name=\"year\", activation=\"sigmoid\")(x)\n",
    "    output_lat = tf.keras.layers.Dense(1, name=\"lat\", activation=\"sigmoid\")(x)\n",
    "    output_lon = tf.keras.layers.Dense(1, name=\"lon\", activation=\"sigmoid\")(x)\n",
    "\n",
    "    return tf.keras.Model(inputs=inputs, outputs={\"year\": output_year, \"lat\": output_lat, \"lon\": output_lon})\n",
    "\n",
    "efficient_net = create_efficient_net()\n",
    "efficient_net.compile(\n",
    "    optimizer=\"adam\",\n",
    "    loss=LOSS,\n",
    "    metrics=METRICS\n",
    ")\n",
    "efficient_net.summary()"
   ]
  },
  {
   "cell_type": "code",
   "execution_count": null,
   "metadata": {},
   "outputs": [],
   "source": [
    "from tensorflow.keras.applications import ResNet50\n",
    "\n",
    "def create_res_net():\n",
    "    base_model = ResNet50(weights=\"imagenet\", include_top=False, input_shape=INPUT_SHAPE)\n",
    "    base_model.trainable = False\n",
    "\n",
    "    inputs = layers.Input(shape=INPUT_SHAPE)\n",
    "    x = layers.Rescaling(1./255)(inputs)\n",
    "    x = base_model(inputs, training=False)\n",
    "    x = layers.GlobalAveragePooling2D()(x)\n",
    "    x = layers.Dense(128, activation=\"relu\")(x)\n",
    "\n",
    "    output_year = tf.keras.layers.Dense(1, name=\"year\", activation=\"sigmoid\")(x)\n",
    "    output_lat = tf.keras.layers.Dense(1, name=\"lat\", activation=\"sigmoid\")(x)\n",
    "    output_lon = tf.keras.layers.Dense(1, name=\"lon\", activation=\"sigmoid\")(x)\n",
    "\n",
    "    return tf.keras.Model(inputs=inputs, outputs={\"year\": output_year, \"lat\": output_lat, \"lon\": output_lon})\n",
    "\n",
    "res_net = create_res_net()\n",
    "res_net.compile(\n",
    "    optimizer=\"adam\",\n",
    "    loss=LOSS,\n",
    "    metrics=METRICS\n",
    ")\n",
    "res_net.summary()"
   ]
  },
  {
   "cell_type": "code",
   "execution_count": null,
   "metadata": {},
   "outputs": [],
   "source": [
    "from tensorflow.keras.applications import Xception\n",
    "\n",
    "def create_xception():\n",
    "    base_model = Xception(weights=\"imagenet\", include_top=False, input_shape=INPUT_SHAPE)\n",
    "    base_model.trainable = False\n",
    "\n",
    "    inputs = layers.Input(shape=INPUT_SHAPE)\n",
    "    x = layers.Rescaling(1./255)(inputs)\n",
    "    x = base_model(inputs, training=False)\n",
    "    x = layers.GlobalAveragePooling2D()(x)\n",
    "    x = layers.Dense(128, activation=\"relu\")(x)\n",
    "\n",
    "    output_year = tf.keras.layers.Dense(1, name=\"year\", activation=\"sigmoid\")(x)\n",
    "    output_lat = tf.keras.layers.Dense(1, name=\"lat\", activation=\"sigmoid\")(x)\n",
    "    output_lon = tf.keras.layers.Dense(1, name=\"lon\", activation=\"sigmoid\")(x)\n",
    "\n",
    "    return tf.keras.Model(inputs=inputs, outputs={\"year\": output_year, \"lat\": output_lat, \"lon\": output_lon})\n",
    "\n",
    "xception = create_xception()\n",
    "xception.compile(\n",
    "    optimizer=\"adam\",\n",
    "    loss=LOSS,\n",
    "    metrics=METRICS\n",
    ")\n",
    "    "
   ]
  },
  {
   "cell_type": "code",
   "execution_count": 8,
   "metadata": {},
   "outputs": [],
   "source": [
    "names = [\"efficient_net\", \"res_net\", \"xception\"]"
   ]
  },
  {
   "cell_type": "code",
   "execution_count": null,
   "metadata": {},
   "outputs": [],
   "source": [
    "models = [efficient_net, res_net, xception]\n",
    "results = train_models(models, names)"
   ]
  }
 ],
 "metadata": {
  "kernelspec": {
   "display_name": "Python 3",
   "language": "python",
   "name": "python3"
  },
  "language_info": {
   "codemirror_mode": {
    "name": "ipython",
    "version": 3
   },
   "file_extension": ".py",
   "mimetype": "text/x-python",
   "name": "python",
   "nbconvert_exporter": "python",
   "pygments_lexer": "ipython3",
   "version": "3.12.8"
  }
 },
 "nbformat": 4,
 "nbformat_minor": 2
}
