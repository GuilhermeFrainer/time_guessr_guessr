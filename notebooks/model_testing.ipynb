{
 "cells": [
  {
   "cell_type": "code",
   "execution_count": 1,
   "metadata": {},
   "outputs": [],
   "source": [
    "import utils\n",
    "import pathlib\n",
    "utils.mount_src()\n",
    "\n",
    "from data_loader import DataLoader\n",
    "\n",
    "CONFIG = utils.load_config()\n",
    "DATA_PATH = CONFIG[\"images_path\"]\n",
    "MODEL_PATH = pathlib.Path(\"../models\")\n",
    "EPOCHS = 10\n",
    "INPUT_SHAPE = (224, 224, 3)"
   ]
  },
  {
   "cell_type": "code",
   "execution_count": 2,
   "metadata": {},
   "outputs": [],
   "source": [
    "LOSS = {\"year\": \"mse\", \"lat\": \"mse\", \"lon\": \"mse\"}\n",
    "METRICS = {\"year\": [\"mae\"], \"lat\": [\"mae\"], \"lon\": [\"mae\"]}"
   ]
  },
  {
   "cell_type": "code",
   "execution_count": 3,
   "metadata": {},
   "outputs": [],
   "source": [
    "from tensorflow import keras\n",
    "\n",
    "def model_traning_pipeline(model: keras.Model, data_path: str, epochs=10, target_size=(224, 224), callbacks=None):\n",
    "    data_loader = DataLoader(data_path)\n",
    "    train_dataset, test_dataset = data_loader.dataset(target_size=target_size)\n",
    "    \n",
    "    history = model.fit(\n",
    "        train_dataset,\n",
    "        epochs=epochs,\n",
    "        validation_data=test_dataset,\n",
    "        callbacks=callbacks\n",
    "    )\n",
    "    return {\"model\": model, \"history\": history}"
   ]
  },
  {
   "cell_type": "code",
   "execution_count": 4,
   "metadata": {},
   "outputs": [],
   "source": [
    "def train_models(ms: list[keras.Model], names: list[str]) -> dict[dict]:\n",
    "    out = {}\n",
    "    for m, n in zip(ms, names):\n",
    "        callbacks = [\n",
    "            keras.callbacks.ModelCheckpoint(\n",
    "                filepath=MODEL_PATH / f\"{n}.keras\",\n",
    "                save_best_only=True,\n",
    "                monitor=\"val_year_mse\",\n",
    "                mode=\"min\"\n",
    "            ),\n",
    "            keras.callbacks.ModelCheckpoint(\n",
    "                filepath=MODEL_PATH / f\"{n}.keras\",\n",
    "                save_best_only=True,\n",
    "                monitor=\"val_lat_mse\",\n",
    "                mode=\"min\"\n",
    "            ),\n",
    "            keras.callbacks.ModelCheckpoint(\n",
    "                filepath=MODEL_PATH / f\"{n}.keras\",\n",
    "                save_best_only=True,\n",
    "                monitor=\"val_lon_mse\",\n",
    "                mode=\"min\"\n",
    "            )\n",
    "        ]\n",
    "        model_training_results = model_traning_pipeline(m, DATA_PATH, epochs=EPOCHS, callbacks=callbacks)\n",
    "        out[n] = model_training_results\n",
    "    return out"
   ]
  },
  {
   "cell_type": "code",
   "execution_count": 5,
   "metadata": {},
   "outputs": [
    {
     "data": {
      "text/html": [
       "<pre style=\"white-space:pre;overflow-x:auto;line-height:normal;font-family:Menlo,'DejaVu Sans Mono',consolas,'Courier New',monospace\"><span style=\"font-weight: bold\">Model: \"functional\"</span>\n",
       "</pre>\n"
      ],
      "text/plain": [
       "\u001b[1mModel: \"functional\"\u001b[0m\n"
      ]
     },
     "metadata": {},
     "output_type": "display_data"
    },
    {
     "data": {
      "text/html": [
       "<pre style=\"white-space:pre;overflow-x:auto;line-height:normal;font-family:Menlo,'DejaVu Sans Mono',consolas,'Courier New',monospace\">┏━━━━━━━━━━━━━━━━━━━━━┳━━━━━━━━━━━━━━━━━━━┳━━━━━━━━━━━━┳━━━━━━━━━━━━━━━━━━━┓\n",
       "┃<span style=\"font-weight: bold\"> Layer (type)        </span>┃<span style=\"font-weight: bold\"> Output Shape      </span>┃<span style=\"font-weight: bold\">    Param # </span>┃<span style=\"font-weight: bold\"> Connected to      </span>┃\n",
       "┡━━━━━━━━━━━━━━━━━━━━━╇━━━━━━━━━━━━━━━━━━━╇━━━━━━━━━━━━╇━━━━━━━━━━━━━━━━━━━┩\n",
       "│ input_layer_1       │ (<span style=\"color: #00d7ff; text-decoration-color: #00d7ff\">None</span>, <span style=\"color: #00af00; text-decoration-color: #00af00\">224</span>, <span style=\"color: #00af00; text-decoration-color: #00af00\">224</span>,  │          <span style=\"color: #00af00; text-decoration-color: #00af00\">0</span> │ -                 │\n",
       "│ (<span style=\"color: #0087ff; text-decoration-color: #0087ff\">InputLayer</span>)        │ <span style=\"color: #00af00; text-decoration-color: #00af00\">3</span>)                │            │                   │\n",
       "├─────────────────────┼───────────────────┼────────────┼───────────────────┤\n",
       "│ efficientnetb3      │ (<span style=\"color: #00d7ff; text-decoration-color: #00d7ff\">None</span>, <span style=\"color: #00af00; text-decoration-color: #00af00\">7</span>, <span style=\"color: #00af00; text-decoration-color: #00af00\">7</span>,      │ <span style=\"color: #00af00; text-decoration-color: #00af00\">10,783,535</span> │ input_layer_1[<span style=\"color: #00af00; text-decoration-color: #00af00\">0</span>]… │\n",
       "│ (<span style=\"color: #0087ff; text-decoration-color: #0087ff\">Functional</span>)        │ <span style=\"color: #00af00; text-decoration-color: #00af00\">1536</span>)             │            │                   │\n",
       "├─────────────────────┼───────────────────┼────────────┼───────────────────┤\n",
       "│ global_average_poo… │ (<span style=\"color: #00d7ff; text-decoration-color: #00d7ff\">None</span>, <span style=\"color: #00af00; text-decoration-color: #00af00\">1536</span>)      │          <span style=\"color: #00af00; text-decoration-color: #00af00\">0</span> │ efficientnetb3[<span style=\"color: #00af00; text-decoration-color: #00af00\">0</span>… │\n",
       "│ (<span style=\"color: #0087ff; text-decoration-color: #0087ff\">GlobalAveragePool…</span> │                   │            │                   │\n",
       "├─────────────────────┼───────────────────┼────────────┼───────────────────┤\n",
       "│ dense (<span style=\"color: #0087ff; text-decoration-color: #0087ff\">Dense</span>)       │ (<span style=\"color: #00d7ff; text-decoration-color: #00d7ff\">None</span>, <span style=\"color: #00af00; text-decoration-color: #00af00\">128</span>)       │    <span style=\"color: #00af00; text-decoration-color: #00af00\">196,736</span> │ global_average_p… │\n",
       "├─────────────────────┼───────────────────┼────────────┼───────────────────┤\n",
       "│ lat (<span style=\"color: #0087ff; text-decoration-color: #0087ff\">Dense</span>)         │ (<span style=\"color: #00d7ff; text-decoration-color: #00d7ff\">None</span>, <span style=\"color: #00af00; text-decoration-color: #00af00\">1</span>)         │        <span style=\"color: #00af00; text-decoration-color: #00af00\">129</span> │ dense[<span style=\"color: #00af00; text-decoration-color: #00af00\">0</span>][<span style=\"color: #00af00; text-decoration-color: #00af00\">0</span>]       │\n",
       "├─────────────────────┼───────────────────┼────────────┼───────────────────┤\n",
       "│ lon (<span style=\"color: #0087ff; text-decoration-color: #0087ff\">Dense</span>)         │ (<span style=\"color: #00d7ff; text-decoration-color: #00d7ff\">None</span>, <span style=\"color: #00af00; text-decoration-color: #00af00\">1</span>)         │        <span style=\"color: #00af00; text-decoration-color: #00af00\">129</span> │ dense[<span style=\"color: #00af00; text-decoration-color: #00af00\">0</span>][<span style=\"color: #00af00; text-decoration-color: #00af00\">0</span>]       │\n",
       "├─────────────────────┼───────────────────┼────────────┼───────────────────┤\n",
       "│ year (<span style=\"color: #0087ff; text-decoration-color: #0087ff\">Dense</span>)        │ (<span style=\"color: #00d7ff; text-decoration-color: #00d7ff\">None</span>, <span style=\"color: #00af00; text-decoration-color: #00af00\">1</span>)         │        <span style=\"color: #00af00; text-decoration-color: #00af00\">129</span> │ dense[<span style=\"color: #00af00; text-decoration-color: #00af00\">0</span>][<span style=\"color: #00af00; text-decoration-color: #00af00\">0</span>]       │\n",
       "└─────────────────────┴───────────────────┴────────────┴───────────────────┘\n",
       "</pre>\n"
      ],
      "text/plain": [
       "┏━━━━━━━━━━━━━━━━━━━━━┳━━━━━━━━━━━━━━━━━━━┳━━━━━━━━━━━━┳━━━━━━━━━━━━━━━━━━━┓\n",
       "┃\u001b[1m \u001b[0m\u001b[1mLayer (type)       \u001b[0m\u001b[1m \u001b[0m┃\u001b[1m \u001b[0m\u001b[1mOutput Shape     \u001b[0m\u001b[1m \u001b[0m┃\u001b[1m \u001b[0m\u001b[1m   Param #\u001b[0m\u001b[1m \u001b[0m┃\u001b[1m \u001b[0m\u001b[1mConnected to     \u001b[0m\u001b[1m \u001b[0m┃\n",
       "┡━━━━━━━━━━━━━━━━━━━━━╇━━━━━━━━━━━━━━━━━━━╇━━━━━━━━━━━━╇━━━━━━━━━━━━━━━━━━━┩\n",
       "│ input_layer_1       │ (\u001b[38;5;45mNone\u001b[0m, \u001b[38;5;34m224\u001b[0m, \u001b[38;5;34m224\u001b[0m,  │          \u001b[38;5;34m0\u001b[0m │ -                 │\n",
       "│ (\u001b[38;5;33mInputLayer\u001b[0m)        │ \u001b[38;5;34m3\u001b[0m)                │            │                   │\n",
       "├─────────────────────┼───────────────────┼────────────┼───────────────────┤\n",
       "│ efficientnetb3      │ (\u001b[38;5;45mNone\u001b[0m, \u001b[38;5;34m7\u001b[0m, \u001b[38;5;34m7\u001b[0m,      │ \u001b[38;5;34m10,783,535\u001b[0m │ input_layer_1[\u001b[38;5;34m0\u001b[0m]… │\n",
       "│ (\u001b[38;5;33mFunctional\u001b[0m)        │ \u001b[38;5;34m1536\u001b[0m)             │            │                   │\n",
       "├─────────────────────┼───────────────────┼────────────┼───────────────────┤\n",
       "│ global_average_poo… │ (\u001b[38;5;45mNone\u001b[0m, \u001b[38;5;34m1536\u001b[0m)      │          \u001b[38;5;34m0\u001b[0m │ efficientnetb3[\u001b[38;5;34m0\u001b[0m… │\n",
       "│ (\u001b[38;5;33mGlobalAveragePool…\u001b[0m │                   │            │                   │\n",
       "├─────────────────────┼───────────────────┼────────────┼───────────────────┤\n",
       "│ dense (\u001b[38;5;33mDense\u001b[0m)       │ (\u001b[38;5;45mNone\u001b[0m, \u001b[38;5;34m128\u001b[0m)       │    \u001b[38;5;34m196,736\u001b[0m │ global_average_p… │\n",
       "├─────────────────────┼───────────────────┼────────────┼───────────────────┤\n",
       "│ lat (\u001b[38;5;33mDense\u001b[0m)         │ (\u001b[38;5;45mNone\u001b[0m, \u001b[38;5;34m1\u001b[0m)         │        \u001b[38;5;34m129\u001b[0m │ dense[\u001b[38;5;34m0\u001b[0m][\u001b[38;5;34m0\u001b[0m]       │\n",
       "├─────────────────────┼───────────────────┼────────────┼───────────────────┤\n",
       "│ lon (\u001b[38;5;33mDense\u001b[0m)         │ (\u001b[38;5;45mNone\u001b[0m, \u001b[38;5;34m1\u001b[0m)         │        \u001b[38;5;34m129\u001b[0m │ dense[\u001b[38;5;34m0\u001b[0m][\u001b[38;5;34m0\u001b[0m]       │\n",
       "├─────────────────────┼───────────────────┼────────────┼───────────────────┤\n",
       "│ year (\u001b[38;5;33mDense\u001b[0m)        │ (\u001b[38;5;45mNone\u001b[0m, \u001b[38;5;34m1\u001b[0m)         │        \u001b[38;5;34m129\u001b[0m │ dense[\u001b[38;5;34m0\u001b[0m][\u001b[38;5;34m0\u001b[0m]       │\n",
       "└─────────────────────┴───────────────────┴────────────┴───────────────────┘\n"
      ]
     },
     "metadata": {},
     "output_type": "display_data"
    },
    {
     "data": {
      "text/html": [
       "<pre style=\"white-space:pre;overflow-x:auto;line-height:normal;font-family:Menlo,'DejaVu Sans Mono',consolas,'Courier New',monospace\"><span style=\"font-weight: bold\"> Total params: </span><span style=\"color: #00af00; text-decoration-color: #00af00\">10,980,658</span> (41.89 MB)\n",
       "</pre>\n"
      ],
      "text/plain": [
       "\u001b[1m Total params: \u001b[0m\u001b[38;5;34m10,980,658\u001b[0m (41.89 MB)\n"
      ]
     },
     "metadata": {},
     "output_type": "display_data"
    },
    {
     "data": {
      "text/html": [
       "<pre style=\"white-space:pre;overflow-x:auto;line-height:normal;font-family:Menlo,'DejaVu Sans Mono',consolas,'Courier New',monospace\"><span style=\"font-weight: bold\"> Trainable params: </span><span style=\"color: #00af00; text-decoration-color: #00af00\">197,123</span> (770.01 KB)\n",
       "</pre>\n"
      ],
      "text/plain": [
       "\u001b[1m Trainable params: \u001b[0m\u001b[38;5;34m197,123\u001b[0m (770.01 KB)\n"
      ]
     },
     "metadata": {},
     "output_type": "display_data"
    },
    {
     "data": {
      "text/html": [
       "<pre style=\"white-space:pre;overflow-x:auto;line-height:normal;font-family:Menlo,'DejaVu Sans Mono',consolas,'Courier New',monospace\"><span style=\"font-weight: bold\"> Non-trainable params: </span><span style=\"color: #00af00; text-decoration-color: #00af00\">10,783,535</span> (41.14 MB)\n",
       "</pre>\n"
      ],
      "text/plain": [
       "\u001b[1m Non-trainable params: \u001b[0m\u001b[38;5;34m10,783,535\u001b[0m (41.14 MB)\n"
      ]
     },
     "metadata": {},
     "output_type": "display_data"
    }
   ],
   "source": [
    "from tensorflow.keras.applications import EfficientNetB3\n",
    "from tensorflow.keras import layers\n",
    "import tensorflow as tf\n",
    "\n",
    "def create_efficient_net() -> keras.Model:\n",
    "    base_model = EfficientNetB3(weights=\"imagenet\", include_top=False, input_shape=INPUT_SHAPE)\n",
    "    base_model.trainable = False\n",
    "\n",
    "    inputs = layers.Input(shape=INPUT_SHAPE)\n",
    "    x = layers.Rescaling(1./255)(inputs)\n",
    "    x = base_model(inputs, training=False)\n",
    "    x = layers.GlobalAveragePooling2D()(x)\n",
    "    x = layers.Dense(128, activation=\"relu\")(x)\n",
    "\n",
    "    output_year = tf.keras.layers.Dense(1, name=\"year\", activation=\"sigmoid\")(x)\n",
    "    output_lat = tf.keras.layers.Dense(1, name=\"lat\", activation=\"sigmoid\")(x)\n",
    "    output_lon = tf.keras.layers.Dense(1, name=\"lon\", activation=\"sigmoid\")(x)\n",
    "\n",
    "    return tf.keras.Model(inputs=inputs, outputs={\"year\": output_year, \"lat\": output_lat, \"lon\": output_lon})\n",
    "\n",
    "efficient_net = create_efficient_net()\n",
    "efficient_net.compile(\n",
    "    optimizer=\"adam\",\n",
    "    loss=LOSS,\n",
    "    metrics=METRICS\n",
    ")\n",
    "efficient_net.summary()"
   ]
  },
  {
   "cell_type": "code",
   "execution_count": 6,
   "metadata": {},
   "outputs": [
    {
     "data": {
      "text/html": [
       "<pre style=\"white-space:pre;overflow-x:auto;line-height:normal;font-family:Menlo,'DejaVu Sans Mono',consolas,'Courier New',monospace\"><span style=\"font-weight: bold\">Model: \"functional_1\"</span>\n",
       "</pre>\n"
      ],
      "text/plain": [
       "\u001b[1mModel: \"functional_1\"\u001b[0m\n"
      ]
     },
     "metadata": {},
     "output_type": "display_data"
    },
    {
     "data": {
      "text/html": [
       "<pre style=\"white-space:pre;overflow-x:auto;line-height:normal;font-family:Menlo,'DejaVu Sans Mono',consolas,'Courier New',monospace\">┏━━━━━━━━━━━━━━━━━━━━━┳━━━━━━━━━━━━━━━━━━━┳━━━━━━━━━━━━┳━━━━━━━━━━━━━━━━━━━┓\n",
       "┃<span style=\"font-weight: bold\"> Layer (type)        </span>┃<span style=\"font-weight: bold\"> Output Shape      </span>┃<span style=\"font-weight: bold\">    Param # </span>┃<span style=\"font-weight: bold\"> Connected to      </span>┃\n",
       "┡━━━━━━━━━━━━━━━━━━━━━╇━━━━━━━━━━━━━━━━━━━╇━━━━━━━━━━━━╇━━━━━━━━━━━━━━━━━━━┩\n",
       "│ input_layer_3       │ (<span style=\"color: #00d7ff; text-decoration-color: #00d7ff\">None</span>, <span style=\"color: #00af00; text-decoration-color: #00af00\">224</span>, <span style=\"color: #00af00; text-decoration-color: #00af00\">224</span>,  │          <span style=\"color: #00af00; text-decoration-color: #00af00\">0</span> │ -                 │\n",
       "│ (<span style=\"color: #0087ff; text-decoration-color: #0087ff\">InputLayer</span>)        │ <span style=\"color: #00af00; text-decoration-color: #00af00\">3</span>)                │            │                   │\n",
       "├─────────────────────┼───────────────────┼────────────┼───────────────────┤\n",
       "│ resnet50            │ (<span style=\"color: #00d7ff; text-decoration-color: #00d7ff\">None</span>, <span style=\"color: #00af00; text-decoration-color: #00af00\">7</span>, <span style=\"color: #00af00; text-decoration-color: #00af00\">7</span>,      │ <span style=\"color: #00af00; text-decoration-color: #00af00\">23,587,712</span> │ input_layer_3[<span style=\"color: #00af00; text-decoration-color: #00af00\">0</span>]… │\n",
       "│ (<span style=\"color: #0087ff; text-decoration-color: #0087ff\">Functional</span>)        │ <span style=\"color: #00af00; text-decoration-color: #00af00\">2048</span>)             │            │                   │\n",
       "├─────────────────────┼───────────────────┼────────────┼───────────────────┤\n",
       "│ global_average_poo… │ (<span style=\"color: #00d7ff; text-decoration-color: #00d7ff\">None</span>, <span style=\"color: #00af00; text-decoration-color: #00af00\">2048</span>)      │          <span style=\"color: #00af00; text-decoration-color: #00af00\">0</span> │ resnet50[<span style=\"color: #00af00; text-decoration-color: #00af00\">0</span>][<span style=\"color: #00af00; text-decoration-color: #00af00\">0</span>]    │\n",
       "│ (<span style=\"color: #0087ff; text-decoration-color: #0087ff\">GlobalAveragePool…</span> │                   │            │                   │\n",
       "├─────────────────────┼───────────────────┼────────────┼───────────────────┤\n",
       "│ dense_1 (<span style=\"color: #0087ff; text-decoration-color: #0087ff\">Dense</span>)     │ (<span style=\"color: #00d7ff; text-decoration-color: #00d7ff\">None</span>, <span style=\"color: #00af00; text-decoration-color: #00af00\">128</span>)       │    <span style=\"color: #00af00; text-decoration-color: #00af00\">262,272</span> │ global_average_p… │\n",
       "├─────────────────────┼───────────────────┼────────────┼───────────────────┤\n",
       "│ lat (<span style=\"color: #0087ff; text-decoration-color: #0087ff\">Dense</span>)         │ (<span style=\"color: #00d7ff; text-decoration-color: #00d7ff\">None</span>, <span style=\"color: #00af00; text-decoration-color: #00af00\">1</span>)         │        <span style=\"color: #00af00; text-decoration-color: #00af00\">129</span> │ dense_1[<span style=\"color: #00af00; text-decoration-color: #00af00\">0</span>][<span style=\"color: #00af00; text-decoration-color: #00af00\">0</span>]     │\n",
       "├─────────────────────┼───────────────────┼────────────┼───────────────────┤\n",
       "│ lon (<span style=\"color: #0087ff; text-decoration-color: #0087ff\">Dense</span>)         │ (<span style=\"color: #00d7ff; text-decoration-color: #00d7ff\">None</span>, <span style=\"color: #00af00; text-decoration-color: #00af00\">1</span>)         │        <span style=\"color: #00af00; text-decoration-color: #00af00\">129</span> │ dense_1[<span style=\"color: #00af00; text-decoration-color: #00af00\">0</span>][<span style=\"color: #00af00; text-decoration-color: #00af00\">0</span>]     │\n",
       "├─────────────────────┼───────────────────┼────────────┼───────────────────┤\n",
       "│ year (<span style=\"color: #0087ff; text-decoration-color: #0087ff\">Dense</span>)        │ (<span style=\"color: #00d7ff; text-decoration-color: #00d7ff\">None</span>, <span style=\"color: #00af00; text-decoration-color: #00af00\">1</span>)         │        <span style=\"color: #00af00; text-decoration-color: #00af00\">129</span> │ dense_1[<span style=\"color: #00af00; text-decoration-color: #00af00\">0</span>][<span style=\"color: #00af00; text-decoration-color: #00af00\">0</span>]     │\n",
       "└─────────────────────┴───────────────────┴────────────┴───────────────────┘\n",
       "</pre>\n"
      ],
      "text/plain": [
       "┏━━━━━━━━━━━━━━━━━━━━━┳━━━━━━━━━━━━━━━━━━━┳━━━━━━━━━━━━┳━━━━━━━━━━━━━━━━━━━┓\n",
       "┃\u001b[1m \u001b[0m\u001b[1mLayer (type)       \u001b[0m\u001b[1m \u001b[0m┃\u001b[1m \u001b[0m\u001b[1mOutput Shape     \u001b[0m\u001b[1m \u001b[0m┃\u001b[1m \u001b[0m\u001b[1m   Param #\u001b[0m\u001b[1m \u001b[0m┃\u001b[1m \u001b[0m\u001b[1mConnected to     \u001b[0m\u001b[1m \u001b[0m┃\n",
       "┡━━━━━━━━━━━━━━━━━━━━━╇━━━━━━━━━━━━━━━━━━━╇━━━━━━━━━━━━╇━━━━━━━━━━━━━━━━━━━┩\n",
       "│ input_layer_3       │ (\u001b[38;5;45mNone\u001b[0m, \u001b[38;5;34m224\u001b[0m, \u001b[38;5;34m224\u001b[0m,  │          \u001b[38;5;34m0\u001b[0m │ -                 │\n",
       "│ (\u001b[38;5;33mInputLayer\u001b[0m)        │ \u001b[38;5;34m3\u001b[0m)                │            │                   │\n",
       "├─────────────────────┼───────────────────┼────────────┼───────────────────┤\n",
       "│ resnet50            │ (\u001b[38;5;45mNone\u001b[0m, \u001b[38;5;34m7\u001b[0m, \u001b[38;5;34m7\u001b[0m,      │ \u001b[38;5;34m23,587,712\u001b[0m │ input_layer_3[\u001b[38;5;34m0\u001b[0m]… │\n",
       "│ (\u001b[38;5;33mFunctional\u001b[0m)        │ \u001b[38;5;34m2048\u001b[0m)             │            │                   │\n",
       "├─────────────────────┼───────────────────┼────────────┼───────────────────┤\n",
       "│ global_average_poo… │ (\u001b[38;5;45mNone\u001b[0m, \u001b[38;5;34m2048\u001b[0m)      │          \u001b[38;5;34m0\u001b[0m │ resnet50[\u001b[38;5;34m0\u001b[0m][\u001b[38;5;34m0\u001b[0m]    │\n",
       "│ (\u001b[38;5;33mGlobalAveragePool…\u001b[0m │                   │            │                   │\n",
       "├─────────────────────┼───────────────────┼────────────┼───────────────────┤\n",
       "│ dense_1 (\u001b[38;5;33mDense\u001b[0m)     │ (\u001b[38;5;45mNone\u001b[0m, \u001b[38;5;34m128\u001b[0m)       │    \u001b[38;5;34m262,272\u001b[0m │ global_average_p… │\n",
       "├─────────────────────┼───────────────────┼────────────┼───────────────────┤\n",
       "│ lat (\u001b[38;5;33mDense\u001b[0m)         │ (\u001b[38;5;45mNone\u001b[0m, \u001b[38;5;34m1\u001b[0m)         │        \u001b[38;5;34m129\u001b[0m │ dense_1[\u001b[38;5;34m0\u001b[0m][\u001b[38;5;34m0\u001b[0m]     │\n",
       "├─────────────────────┼───────────────────┼────────────┼───────────────────┤\n",
       "│ lon (\u001b[38;5;33mDense\u001b[0m)         │ (\u001b[38;5;45mNone\u001b[0m, \u001b[38;5;34m1\u001b[0m)         │        \u001b[38;5;34m129\u001b[0m │ dense_1[\u001b[38;5;34m0\u001b[0m][\u001b[38;5;34m0\u001b[0m]     │\n",
       "├─────────────────────┼───────────────────┼────────────┼───────────────────┤\n",
       "│ year (\u001b[38;5;33mDense\u001b[0m)        │ (\u001b[38;5;45mNone\u001b[0m, \u001b[38;5;34m1\u001b[0m)         │        \u001b[38;5;34m129\u001b[0m │ dense_1[\u001b[38;5;34m0\u001b[0m][\u001b[38;5;34m0\u001b[0m]     │\n",
       "└─────────────────────┴───────────────────┴────────────┴───────────────────┘\n"
      ]
     },
     "metadata": {},
     "output_type": "display_data"
    },
    {
     "data": {
      "text/html": [
       "<pre style=\"white-space:pre;overflow-x:auto;line-height:normal;font-family:Menlo,'DejaVu Sans Mono',consolas,'Courier New',monospace\"><span style=\"font-weight: bold\"> Total params: </span><span style=\"color: #00af00; text-decoration-color: #00af00\">23,850,371</span> (90.98 MB)\n",
       "</pre>\n"
      ],
      "text/plain": [
       "\u001b[1m Total params: \u001b[0m\u001b[38;5;34m23,850,371\u001b[0m (90.98 MB)\n"
      ]
     },
     "metadata": {},
     "output_type": "display_data"
    },
    {
     "data": {
      "text/html": [
       "<pre style=\"white-space:pre;overflow-x:auto;line-height:normal;font-family:Menlo,'DejaVu Sans Mono',consolas,'Courier New',monospace\"><span style=\"font-weight: bold\"> Trainable params: </span><span style=\"color: #00af00; text-decoration-color: #00af00\">262,659</span> (1.00 MB)\n",
       "</pre>\n"
      ],
      "text/plain": [
       "\u001b[1m Trainable params: \u001b[0m\u001b[38;5;34m262,659\u001b[0m (1.00 MB)\n"
      ]
     },
     "metadata": {},
     "output_type": "display_data"
    },
    {
     "data": {
      "text/html": [
       "<pre style=\"white-space:pre;overflow-x:auto;line-height:normal;font-family:Menlo,'DejaVu Sans Mono',consolas,'Courier New',monospace\"><span style=\"font-weight: bold\"> Non-trainable params: </span><span style=\"color: #00af00; text-decoration-color: #00af00\">23,587,712</span> (89.98 MB)\n",
       "</pre>\n"
      ],
      "text/plain": [
       "\u001b[1m Non-trainable params: \u001b[0m\u001b[38;5;34m23,587,712\u001b[0m (89.98 MB)\n"
      ]
     },
     "metadata": {},
     "output_type": "display_data"
    }
   ],
   "source": [
    "from tensorflow.keras.applications import ResNet50\n",
    "\n",
    "def create_res_net():\n",
    "    base_model = ResNet50(weights=\"imagenet\", include_top=False, input_shape=INPUT_SHAPE)\n",
    "    base_model.trainable = False\n",
    "\n",
    "    inputs = layers.Input(shape=INPUT_SHAPE)\n",
    "    x = layers.Rescaling(1./255)(inputs)\n",
    "    x = base_model(inputs, training=False)\n",
    "    x = layers.GlobalAveragePooling2D()(x)\n",
    "    x = layers.Dense(128, activation=\"relu\")(x)\n",
    "\n",
    "    output_year = tf.keras.layers.Dense(1, name=\"year\", activation=\"sigmoid\")(x)\n",
    "    output_lat = tf.keras.layers.Dense(1, name=\"lat\", activation=\"sigmoid\")(x)\n",
    "    output_lon = tf.keras.layers.Dense(1, name=\"lon\", activation=\"sigmoid\")(x)\n",
    "\n",
    "    return tf.keras.Model(inputs=inputs, outputs={\"year\": output_year, \"lat\": output_lat, \"lon\": output_lon})\n",
    "\n",
    "res_net = create_res_net()\n",
    "res_net.compile(\n",
    "    optimizer=\"adam\",\n",
    "    loss=LOSS,\n",
    "    metrics=METRICS\n",
    ")\n",
    "res_net.summary()"
   ]
  },
  {
   "cell_type": "code",
   "execution_count": 7,
   "metadata": {},
   "outputs": [],
   "source": [
    "from tensorflow.keras.applications import Xception\n",
    "\n",
    "def create_xception():\n",
    "    base_model = Xception(weights=\"imagenet\", include_top=False, input_shape=INPUT_SHAPE)\n",
    "    base_model.trainable = False\n",
    "\n",
    "    inputs = layers.Input(shape=INPUT_SHAPE)\n",
    "    x = layers.Rescaling(1./255)(inputs)\n",
    "    x = base_model(inputs, training=False)\n",
    "    x = layers.GlobalAveragePooling2D()(x)\n",
    "    x = layers.Dense(128, activation=\"relu\")(x)\n",
    "\n",
    "    output_year = tf.keras.layers.Dense(1, name=\"year\", activation=\"sigmoid\")(x)\n",
    "    output_lat = tf.keras.layers.Dense(1, name=\"lat\", activation=\"sigmoid\")(x)\n",
    "    output_lon = tf.keras.layers.Dense(1, name=\"lon\", activation=\"sigmoid\")(x)\n",
    "\n",
    "    return tf.keras.Model(inputs=inputs, outputs={\"year\": output_year, \"lat\": output_lat, \"lon\": output_lon})\n",
    "\n",
    "xception = create_xception()\n",
    "xception.compile(\n",
    "    optimizer=\"adam\",\n",
    "    loss=LOSS,\n",
    "    metrics=METRICS\n",
    ")\n",
    "    "
   ]
  },
  {
   "cell_type": "code",
   "execution_count": 8,
   "metadata": {},
   "outputs": [],
   "source": [
    "def get_callbacks(name: str):\n",
    "    callbacks = [\n",
    "        keras.callbacks.ModelCheckpoint(\n",
    "            filepath=MODEL_PATH / f\"{name}.keras\",\n",
    "            save_best_only=True,\n",
    "            monitor=\"val_year_mse\",\n",
    "            mode=\"min\"\n",
    "        ),\n",
    "        keras.callbacks.ModelCheckpoint(\n",
    "            filepath=MODEL_PATH / f\"{name}.keras\",\n",
    "            save_best_only=True,\n",
    "            monitor=\"val_lat_mse\",\n",
    "            mode=\"min\"\n",
    "        ),\n",
    "        keras.callbacks.ModelCheckpoint(\n",
    "            filepath=MODEL_PATH / f\"{name}.keras\",\n",
    "            save_best_only=True,\n",
    "            monitor=\"val_lon_mse\",\n",
    "            mode=\"min\"\n",
    "        )\n",
    "    ]\n",
    "    return callbacks"
   ]
  },
  {
   "cell_type": "code",
   "execution_count": 9,
   "metadata": {},
   "outputs": [],
   "source": [
    "name = \"efficient_net\"\n",
    "\n",
    "callbacks = get_callbacks(name)\n",
    "\n",
    "data_loader = DataLoader(DATA_PATH)\n",
    "train_dataset, test_dataset = data_loader.dataset()"
   ]
  },
  {
   "cell_type": "code",
   "execution_count": 10,
   "metadata": {},
   "outputs": [
    {
     "name": "stdout",
     "output_type": "stream",
     "text": [
      "Epoch 1/10\n",
      "\u001b[1m3078/3078\u001b[0m \u001b[32m━━━━━━━━━━━━━━━━━━━━\u001b[0m\u001b[37m\u001b[0m \u001b[1m0s\u001b[0m 351ms/step - lat_loss: 0.0164 - lat_mae: 0.0850 - lon_loss: 0.0341 - lon_mae: 0.1362 - loss: 0.0853 - year_loss: 0.0348 - year_mae: 0.1391"
     ]
    },
    {
     "name": "stderr",
     "output_type": "stream",
     "text": [
      "C:\\Program Files\\WindowsApps\\PythonSoftwareFoundation.Python.3.12_3.12.2288.0_x64__qbz5n2kfra8p0\\Lib\\contextlib.py:158: UserWarning: Your input ran out of data; interrupting training. Make sure that your dataset or generator can generate at least `steps_per_epoch * epochs` batches. You may need to use the `.repeat()` function when building your dataset.\n",
      "  self.gen.throw(value)\n",
      "C:\\Users\\guisf\\AppData\\Local\\Packages\\PythonSoftwareFoundation.Python.3.12_qbz5n2kfra8p0\\LocalCache\\local-packages\\Python312\\site-packages\\keras\\src\\callbacks\\model_checkpoint.py:206: UserWarning: Can save best model only with val_year_mse available, skipping.\n",
      "  self._save_model(epoch=epoch, batch=None, logs=logs)\n",
      "C:\\Users\\guisf\\AppData\\Local\\Packages\\PythonSoftwareFoundation.Python.3.12_qbz5n2kfra8p0\\LocalCache\\local-packages\\Python312\\site-packages\\keras\\src\\callbacks\\model_checkpoint.py:206: UserWarning: Can save best model only with val_lat_mse available, skipping.\n",
      "  self._save_model(epoch=epoch, batch=None, logs=logs)\n",
      "C:\\Users\\guisf\\AppData\\Local\\Packages\\PythonSoftwareFoundation.Python.3.12_qbz5n2kfra8p0\\LocalCache\\local-packages\\Python312\\site-packages\\keras\\src\\callbacks\\model_checkpoint.py:206: UserWarning: Can save best model only with val_lon_mse available, skipping.\n",
      "  self._save_model(epoch=epoch, batch=None, logs=logs)\n"
     ]
    },
    {
     "name": "stdout",
     "output_type": "stream",
     "text": [
      "\u001b[1m3078/3078\u001b[0m \u001b[32m━━━━━━━━━━━━━━━━━━━━\u001b[0m\u001b[37m\u001b[0m \u001b[1m1400s\u001b[0m 421ms/step - lat_loss: 0.0164 - lat_mae: 0.0850 - lon_loss: 0.0341 - lon_mae: 0.1362 - loss: 0.0853 - year_loss: 0.0348 - year_mae: 0.1391\n",
      "Epoch 2/10\n",
      "\u001b[1m3078/3078\u001b[0m \u001b[32m━━━━━━━━━━━━━━━━━━━━\u001b[0m\u001b[37m\u001b[0m \u001b[1m1445s\u001b[0m 427ms/step - lat_loss: 0.0133 - lat_mae: 0.0739 - lon_loss: 0.0293 - lon_mae: 0.1230 - loss: 0.0689 - year_loss: 0.0263 - year_mae: 0.1190\n",
      "Epoch 3/10\n",
      "\u001b[1m3078/3078\u001b[0m \u001b[32m━━━━━━━━━━━━━━━━━━━━\u001b[0m\u001b[37m\u001b[0m \u001b[1m1407s\u001b[0m 415ms/step - lat_loss: 0.0126 - lat_mae: 0.0720 - lon_loss: 0.0276 - lon_mae: 0.1195 - loss: 0.0640 - year_loss: 0.0239 - year_mae: 0.1135\n",
      "Epoch 4/10\n",
      "\u001b[1m3078/3078\u001b[0m \u001b[32m━━━━━━━━━━━━━━━━━━━━\u001b[0m\u001b[37m\u001b[0m \u001b[1m1463s\u001b[0m 430ms/step - lat_loss: 0.0119 - lat_mae: 0.0693 - lon_loss: 0.0257 - lon_mae: 0.1155 - loss: 0.0595 - year_loss: 0.0218 - year_mae: 0.1088\n",
      "Epoch 5/10\n",
      "\u001b[1m3078/3078\u001b[0m \u001b[32m━━━━━━━━━━━━━━━━━━━━\u001b[0m\u001b[37m\u001b[0m \u001b[1m1450s\u001b[0m 429ms/step - lat_loss: 0.0117 - lat_mae: 0.0691 - lon_loss: 0.0246 - lon_mae: 0.1132 - loss: 0.0563 - year_loss: 0.0200 - year_mae: 0.1050\n",
      "Epoch 6/10\n",
      "\u001b[1m3078/3078\u001b[0m \u001b[32m━━━━━━━━━━━━━━━━━━━━\u001b[0m\u001b[37m\u001b[0m \u001b[1m1459s\u001b[0m 425ms/step - lat_loss: 0.0113 - lat_mae: 0.0681 - lon_loss: 0.0234 - lon_mae: 0.1104 - loss: 0.0539 - year_loss: 0.0192 - year_mae: 0.1026\n",
      "Epoch 7/10\n",
      "\u001b[1m3078/3078\u001b[0m \u001b[32m━━━━━━━━━━━━━━━━━━━━\u001b[0m\u001b[37m\u001b[0m \u001b[1m1433s\u001b[0m 414ms/step - lat_loss: 0.0111 - lat_mae: 0.0674 - lon_loss: 0.0226 - lon_mae: 0.1089 - loss: 0.0518 - year_loss: 0.0181 - year_mae: 0.1002\n",
      "Epoch 8/10\n",
      "\u001b[1m3078/3078\u001b[0m \u001b[32m━━━━━━━━━━━━━━━━━━━━\u001b[0m\u001b[37m\u001b[0m \u001b[1m1450s\u001b[0m 430ms/step - lat_loss: 0.0110 - lat_mae: 0.0674 - lon_loss: 0.0219 - lon_mae: 0.1070 - loss: 0.0501 - year_loss: 0.0173 - year_mae: 0.0980\n",
      "Epoch 9/10\n",
      "\u001b[1m3078/3078\u001b[0m \u001b[32m━━━━━━━━━━━━━━━━━━━━\u001b[0m\u001b[37m\u001b[0m \u001b[1m1423s\u001b[0m 422ms/step - lat_loss: 0.0106 - lat_mae: 0.0662 - lon_loss: 0.0211 - lon_mae: 0.1053 - loss: 0.0484 - year_loss: 0.0167 - year_mae: 0.0964\n",
      "Epoch 10/10\n",
      "\u001b[1m3078/3078\u001b[0m \u001b[32m━━━━━━━━━━━━━━━━━━━━\u001b[0m\u001b[37m\u001b[0m \u001b[1m1438s\u001b[0m 424ms/step - lat_loss: 0.0103 - lat_mae: 0.0657 - lon_loss: 0.0203 - lon_mae: 0.1035 - loss: 0.0467 - year_loss: 0.0160 - year_mae: 0.0948\n"
     ]
    }
   ],
   "source": [
    "efficient_net_history = efficient_net.fit(\n",
    "    train_dataset,\n",
    "    epochs=EPOCHS,\n",
    "    validation_data=test_dataset,\n",
    "    callbacks=callbacks\n",
    ")"
   ]
  },
  {
   "cell_type": "code",
   "execution_count": 11,
   "metadata": {},
   "outputs": [],
   "source": [
    "name = \"res_net\"\n",
    "\n",
    "callbacks = get_callbacks(name)\n",
    "\n",
    "data_loader = DataLoader(DATA_PATH)\n",
    "train_dataset, test_dataset = data_loader.dataset()"
   ]
  },
  {
   "cell_type": "code",
   "execution_count": 12,
   "metadata": {},
   "outputs": [
    {
     "name": "stdout",
     "output_type": "stream",
     "text": [
      "Epoch 1/10\n",
      "\u001b[1m3078/3078\u001b[0m \u001b[32m━━━━━━━━━━━━━━━━━━━━\u001b[0m\u001b[37m\u001b[0m \u001b[1m1734s\u001b[0m 520ms/step - lat_loss: 0.0175 - lat_mae: 0.0862 - lon_loss: 0.0434 - lon_mae: 0.1511 - loss: 0.0997 - year_loss: 0.0387 - year_mae: 0.1478\n",
      "Epoch 2/10\n",
      "\u001b[1m3078/3078\u001b[0m \u001b[32m━━━━━━━━━━━━━━━━━━━━\u001b[0m\u001b[37m\u001b[0m \u001b[1m1742s\u001b[0m 523ms/step - lat_loss: 0.0139 - lat_mae: 0.0748 - lon_loss: 0.0317 - lon_mae: 0.1298 - loss: 0.0747 - year_loss: 0.0291 - year_mae: 0.1256\n",
      "Epoch 3/10\n",
      "\u001b[1m3078/3078\u001b[0m \u001b[32m━━━━━━━━━━━━━━━━━━━━\u001b[0m\u001b[37m\u001b[0m \u001b[1m1728s\u001b[0m 521ms/step - lat_loss: 0.0136 - lat_mae: 0.0738 - lon_loss: 0.0304 - lon_mae: 0.1259 - loss: 0.0711 - year_loss: 0.0271 - year_mae: 0.1201\n",
      "Epoch 4/10\n",
      "\u001b[1m3078/3078\u001b[0m \u001b[32m━━━━━━━━━━━━━━━━━━━━\u001b[0m\u001b[37m\u001b[0m \u001b[1m1733s\u001b[0m 514ms/step - lat_loss: 0.0131 - lat_mae: 0.0720 - lon_loss: 0.0295 - lon_mae: 0.1233 - loss: 0.0685 - year_loss: 0.0259 - year_mae: 0.1174\n",
      "Epoch 5/10\n",
      "\u001b[1m3078/3078\u001b[0m \u001b[32m━━━━━━━━━━━━━━━━━━━━\u001b[0m\u001b[37m\u001b[0m \u001b[1m1735s\u001b[0m 522ms/step - lat_loss: 0.0129 - lat_mae: 0.0718 - lon_loss: 0.0289 - lon_mae: 0.1211 - loss: 0.0667 - year_loss: 0.0249 - year_mae: 0.1149\n",
      "Epoch 6/10\n",
      "\u001b[1m3078/3078\u001b[0m \u001b[32m━━━━━━━━━━━━━━━━━━━━\u001b[0m\u001b[37m\u001b[0m \u001b[1m1710s\u001b[0m 513ms/step - lat_loss: 0.0127 - lat_mae: 0.0707 - lon_loss: 0.0282 - lon_mae: 0.1197 - loss: 0.0650 - year_loss: 0.0241 - year_mae: 0.1130\n",
      "Epoch 7/10\n",
      "\u001b[1m3078/3078\u001b[0m \u001b[32m━━━━━━━━━━━━━━━━━━━━\u001b[0m\u001b[37m\u001b[0m \u001b[1m1699s\u001b[0m 512ms/step - lat_loss: 0.0126 - lat_mae: 0.0707 - lon_loss: 0.0278 - lon_mae: 0.1190 - loss: 0.0641 - year_loss: 0.0237 - year_mae: 0.1122\n",
      "Epoch 8/10\n",
      "\u001b[1m3078/3078\u001b[0m \u001b[32m━━━━━━━━━━━━━━━━━━━━\u001b[0m\u001b[37m\u001b[0m \u001b[1m1703s\u001b[0m 512ms/step - lat_loss: 0.0125 - lat_mae: 0.0700 - lon_loss: 0.0277 - lon_mae: 0.1180 - loss: 0.0631 - year_loss: 0.0229 - year_mae: 0.1101\n",
      "Epoch 9/10\n",
      "\u001b[1m3078/3078\u001b[0m \u001b[32m━━━━━━━━━━━━━━━━━━━━\u001b[0m\u001b[37m\u001b[0m \u001b[1m1714s\u001b[0m 516ms/step - lat_loss: 0.0123 - lat_mae: 0.0696 - lon_loss: 0.0271 - lon_mae: 0.1170 - loss: 0.0617 - year_loss: 0.0223 - year_mae: 0.1088\n",
      "Epoch 10/10\n",
      "\u001b[1m3078/3078\u001b[0m \u001b[32m━━━━━━━━━━━━━━━━━━━━\u001b[0m\u001b[37m\u001b[0m \u001b[1m1726s\u001b[0m 520ms/step - lat_loss: 0.0124 - lat_mae: 0.0698 - lon_loss: 0.0267 - lon_mae: 0.1160 - loss: 0.0616 - year_loss: 0.0225 - year_mae: 0.1091\n"
     ]
    }
   ],
   "source": [
    "res_net_history = res_net.fit(\n",
    "    train_dataset,\n",
    "    epochs=EPOCHS,\n",
    "    validation_data=test_dataset,\n",
    "    callbacks=callbacks\n",
    ")"
   ]
  },
  {
   "cell_type": "code",
   "execution_count": 13,
   "metadata": {},
   "outputs": [],
   "source": [
    "name = \"xception\"\n",
    "\n",
    "callbacks = get_callbacks(name)\n",
    "\n",
    "data_loader = DataLoader(DATA_PATH)\n",
    "train_dataset, test_dataset = data_loader.dataset()"
   ]
  },
  {
   "cell_type": "code",
   "execution_count": 14,
   "metadata": {},
   "outputs": [
    {
     "name": "stdout",
     "output_type": "stream",
     "text": [
      "Epoch 1/10\n",
      "\u001b[1m3078/3078\u001b[0m \u001b[32m━━━━━━━━━━━━━━━━━━━━\u001b[0m\u001b[37m\u001b[0m \u001b[1m1959s\u001b[0m 595ms/step - lat_loss: 0.1003 - lat_mae: 0.2884 - lon_loss: 0.2491 - lon_mae: 0.4613 - loss: 0.6668 - year_loss: 0.3174 - year_mae: 0.4831\n",
      "Epoch 2/10\n",
      "\u001b[1m3078/3078\u001b[0m \u001b[32m━━━━━━━━━━━━━━━━━━━━\u001b[0m\u001b[37m\u001b[0m \u001b[1m1973s\u001b[0m 600ms/step - lat_loss: 0.0983 - lat_mae: 0.2866 - lon_loss: 0.2501 - lon_mae: 0.4630 - loss: 0.6655 - year_loss: 0.3171 - year_mae: 0.4820\n",
      "Epoch 3/10\n",
      "\u001b[1m3078/3078\u001b[0m \u001b[32m━━━━━━━━━━━━━━━━━━━━\u001b[0m\u001b[37m\u001b[0m \u001b[1m1995s\u001b[0m 602ms/step - lat_loss: 0.0990 - lat_mae: 0.2872 - lon_loss: 0.2505 - lon_mae: 0.4632 - loss: 0.6664 - year_loss: 0.3169 - year_mae: 0.4821\n",
      "Epoch 4/10\n",
      "\u001b[1m3078/3078\u001b[0m \u001b[32m━━━━━━━━━━━━━━━━━━━━\u001b[0m\u001b[37m\u001b[0m \u001b[1m1941s\u001b[0m 590ms/step - lat_loss: 0.0980 - lat_mae: 0.2862 - lon_loss: 0.2499 - lon_mae: 0.4630 - loss: 0.6622 - year_loss: 0.3143 - year_mae: 0.4798\n",
      "Epoch 5/10\n",
      "\u001b[1m3078/3078\u001b[0m \u001b[32m━━━━━━━━━━━━━━━━━━━━\u001b[0m\u001b[37m\u001b[0m \u001b[1m1997s\u001b[0m 600ms/step - lat_loss: 0.0978 - lat_mae: 0.2859 - lon_loss: 0.2499 - lon_mae: 0.4629 - loss: 0.6654 - year_loss: 0.3177 - year_mae: 0.4825\n",
      "Epoch 6/10\n",
      "\u001b[1m3078/3078\u001b[0m \u001b[32m━━━━━━━━━━━━━━━━━━━━\u001b[0m\u001b[37m\u001b[0m \u001b[1m1965s\u001b[0m 598ms/step - lat_loss: 0.0988 - lat_mae: 0.2870 - lon_loss: 0.2505 - lon_mae: 0.4631 - loss: 0.6631 - year_loss: 0.3138 - year_mae: 0.4789\n",
      "Epoch 7/10\n",
      "\u001b[1m3078/3078\u001b[0m \u001b[32m━━━━━━━━━━━━━━━━━━━━\u001b[0m\u001b[37m\u001b[0m \u001b[1m1976s\u001b[0m 602ms/step - lat_loss: 0.0982 - lat_mae: 0.2863 - lon_loss: 0.2506 - lon_mae: 0.4635 - loss: 0.6655 - year_loss: 0.3167 - year_mae: 0.4822\n",
      "Epoch 8/10\n",
      "\u001b[1m3078/3078\u001b[0m \u001b[32m━━━━━━━━━━━━━━━━━━━━\u001b[0m\u001b[37m\u001b[0m \u001b[1m2047s\u001b[0m 630ms/step - lat_loss: 0.0981 - lat_mae: 0.2863 - lon_loss: 0.2501 - lon_mae: 0.4630 - loss: 0.6630 - year_loss: 0.3149 - year_mae: 0.4799\n",
      "Epoch 9/10\n",
      "\u001b[1m3078/3078\u001b[0m \u001b[32m━━━━━━━━━━━━━━━━━━━━\u001b[0m\u001b[37m\u001b[0m \u001b[1m2022s\u001b[0m 610ms/step - lat_loss: 0.0976 - lat_mae: 0.2857 - lon_loss: 0.2485 - lon_mae: 0.4617 - loss: 0.6633 - year_loss: 0.3172 - year_mae: 0.4827\n",
      "Epoch 10/10\n",
      "\u001b[1m3078/3078\u001b[0m \u001b[32m━━━━━━━━━━━━━━━━━━━━\u001b[0m\u001b[37m\u001b[0m \u001b[1m2004s\u001b[0m 612ms/step - lat_loss: 0.0981 - lat_mae: 0.2863 - lon_loss: 0.2497 - lon_mae: 0.4630 - loss: 0.6624 - year_loss: 0.3146 - year_mae: 0.4797\n"
     ]
    }
   ],
   "source": [
    "xception_history = xception.fit(\n",
    "    train_dataset,\n",
    "    epochs=EPOCHS,\n",
    "    validation_data=test_dataset,\n",
    "    callbacks=callbacks\n",
    ")"
   ]
  },
  {
   "cell_type": "code",
   "execution_count": 15,
   "metadata": {},
   "outputs": [],
   "source": [
    "efficient_net.save(MODEL_PATH / \"efficient_net.keras\")\n",
    "res_net.save(MODEL_PATH / \"res_net.keras\")\n",
    "xception.save(MODEL_PATH / \"xception.keras\")"
   ]
  },
  {
   "cell_type": "code",
   "execution_count": 26,
   "metadata": {},
   "outputs": [
    {
     "data": {
      "image/png": "[encoded data removed]",
      "text/plain": [
       "<Figure size 640x480 with 1 Axes>"
      ]
     },
     "metadata": {},
     "output_type": "display_data"
    }
   ],
   "source": [
    "import matplotlib.pyplot as plt\n",
    "\n",
    "mses = [\"year_loss\", \"lat_loss\", \"lon_loss\"]\n",
    "names = [\"efficient_net\", \"res_net\", \"xception\"]\n",
    "histories = [efficient_net_history, res_net_history, xception_history]\n",
    "\n",
    "epochs = [n for n in range(1, EPOCHS + 1)]\n",
    "\n",
    "loss = \"lon_loss\"\n",
    "\n",
    "loss\n",
    "\n",
    "plt.plot(epochs, efficient_net_history.history[loss], label=\"efficient_net\")\n",
    "plt.plot(epochs, res_net_history.history[loss], label=\"res_net\")\n",
    "plt.plot(epochs, xception_history.history[loss], label=\"xception_net\")\n",
    "plt.legend()\n",
    "plt.show()"
   ]
  },
  {
   "cell_type": "code",
   "execution_count": 23,
   "metadata": {},
   "outputs": [],
   "source": [
    "import polars as pl\n",
    "\n",
    "HISTORY_DIR = pathlib.Path(\"../histories\")\n",
    "\n",
    "df = pl.DataFrame(efficient_net_history.history)\n",
    "df.write_csv(HISTORY_DIR / \"efficient_net.csv\")\n",
    "\n",
    "df = pl.DataFrame(res_net_history.history)\n",
    "df.write_csv(HISTORY_DIR / \"res_net.csv\")\n",
    "\n",
    "df = pl.DataFrame(xception_history.history)\n",
    "df.write_csv(HISTORY_DIR / \"xception.csv\")"
   ]
  },
  {
   "cell_type": "code",
   "execution_count": null,
   "metadata": {},
   "outputs": [],
   "source": []
  }
 ],
 "metadata": {
  "kernelspec": {
   "display_name": "Python 3",
   "language": "python",
   "name": "python3"
  },
  "language_info": {
   "codemirror_mode": {
    "name": "ipython",
    "version": 3
   },
   "file_extension": ".py",
   "mimetype": "text/x-python",
   "name": "python",
   "nbconvert_exporter": "python",
   "pygments_lexer": "ipython3",
   "version": "3.12.8"
  }
 },
 "nbformat": 4,
 "nbformat_minor": 2
}
