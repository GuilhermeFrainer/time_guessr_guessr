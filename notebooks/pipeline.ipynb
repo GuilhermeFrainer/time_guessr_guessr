{
 "cells": [
  {
   "cell_type": "code",
   "execution_count": 1,
   "metadata": {},
   "outputs": [],
   "source": [
    "import utils\n",
    "utils.mount_src()\n",
    "\n",
    "CONFIG = utils.load_config()\n",
    "DATA_PATH = CONFIG[\"images_path\"]"
   ]
  },
  {
   "cell_type": "code",
   "execution_count": 2,
   "metadata": {},
   "outputs": [],
   "source": [
    "from tensorflow.keras import Model\n",
    "from data_loader import DataLoader\n",
    "\n",
    "def model_traning_pipeline(model: Model, data_path: str, epochs=10, target_size=(224, 224), callbacks=None):\n",
    "    data_loader = DataLoader(data_path)\n",
    "    train_dataset, test_dataset = data_loader.dataset(target_size=target_size)\n",
    "    \n",
    "    history = model.fit(\n",
    "        train_dataset,\n",
    "        epochs=epochs,\n",
    "        validation_data=test_dataset,\n",
    "        callbacks=callbacks\n",
    "    )\n",
    "    return {\"model\": model, \"history\": history.history}"
   ]
  },
  {
   "cell_type": "code",
   "execution_count": 3,
   "metadata": {},
   "outputs": [],
   "source": [
    "from tensorflow.keras import layers\n",
    "import tensorflow as tf\n",
    "\n",
    "def affine_model():\n",
    "    inputs = keras.Input(shape=(224, 224, 3))\n",
    "    x = layers.Rescaling(1./255)(inputs)\n",
    "\n",
    "    x = layers.Conv2D(filters=32, kernel_size=5, activation=\"relu\")(x)\n",
    "    x = layers.MaxPooling2D(pool_size=3, strides=2)(x)\n",
    "\n",
    "    x = layers.Conv2D(filters=64, kernel_size=5, activation=\"relu\")(x)\n",
    "    x = layers.MaxPooling2D(pool_size=3, strides=2)(x)\n",
    "\n",
    "    x = layers.Conv2D(filters=64, kernel_size=5, activation=\"relu\")(x)\n",
    "    x = layers.MaxPooling2D(pool_size=3, strides=2)(x)\n",
    "\n",
    "    x = layers.Flatten()(x)\n",
    "\n",
    "    output_year = tf.keras.layers.Dense(1, name=\"year\", activation=\"sigmoid\")(x)\n",
    "    output_lat = tf.keras.layers.Dense(1, name=\"lat\", activation=\"sigmoid\")(x)\n",
    "    output_lon = tf.keras.layers.Dense(1, name=\"lon\", activation=\"sigmoid\")(x)\n",
    "\n",
    "    return tf.keras.Model(inputs=inputs, outputs={\"year\": output_year, \"lat\": output_lat, \"lon\": output_lon})"
   ]
  },
  {
   "cell_type": "code",
   "execution_count": 4,
   "metadata": {},
   "outputs": [],
   "source": [
    "from tensorflow import keras\n",
    "\n",
    "affine = affine_model()\n",
    "\n",
    "callbacks = [\n",
    "    keras.callbacks.ModelCheckpoint(\n",
    "        filepath=\"affine.keras\",\n",
    "        save_best_only=True,\n",
    "        monitor=\"val_loss\"\n",
    "    )\n",
    "]\n",
    "\n",
    "affine.compile(\n",
    "    optimizer=\"adam\",\n",
    "    loss={\"year\": \"mse\", \"lat\": \"mse\", \"lon\": \"mse\"},\n",
    "    metrics={\"year\": \"mae\", \"lat\": \"mae\", \"lon\": \"mae\"}\n",
    ")"
   ]
  },
  {
   "cell_type": "code",
   "execution_count": 5,
   "metadata": {},
   "outputs": [],
   "source": [
    "import tensorflow as tf\n",
    "from tensorflow.keras import layers\n",
    "\n",
    "def efficient_net_model():\n",
    "    efficient_base = keras.applications.EfficientNetB0(\n",
    "        include_top=False,\n",
    "        input_shape=(224, 224, 3)\n",
    "    )\n",
    "\n",
    "    efficient_base.trainable = False\n",
    "\n",
    "    inputs = tf.keras.Input(shape=(224, 224, 3))\n",
    "\n",
    "    x = efficient_base(inputs, training=False)\n",
    "    x = layers.GlobalAveragePooling2D()(x)\n",
    "\n",
    "    x = layers.Dropout(0.3)(x)\n",
    "\n",
    "    output_year = tf.keras.layers.Dense(1, name=\"year\", activation=\"sigmoid\")(x)\n",
    "    output_lat = tf.keras.layers.Dense(1, name=\"lat\", activation=\"sigmoid\")(x)\n",
    "    output_lon = tf.keras.layers.Dense(1, name=\"lon\", activation=\"sigmoid\")(x)\n",
    "\n",
    "    return tf.keras.Model(inputs=inputs, outputs={\"year\": output_year, \"lat\": output_lat, \"lon\": output_lon})\n",
    "\n",
    "efficient_net = efficient_net_model()\n",
    "\n",
    "efficient_net.compile(\n",
    "    optimizer=\"adam\",\n",
    "    loss={\"year\": \"mse\", \"lat\": \"mse\", \"lon\": \"mse\"},\n",
    "    metrics={\"year\": \"mae\", \"lat\": \"mae\", \"lon\": \"mae\"}\n",
    ")"
   ]
  },
  {
   "cell_type": "code",
   "execution_count": null,
   "metadata": {},
   "outputs": [],
   "source": [
    "callbacks = [\n",
    "    keras.callbacks.ModelCheckpoint(\n",
    "        filepath=\"affine.keras\",\n",
    "        save_best_only=True,\n",
    "        monitor=\"val_loss\"\n",
    "    )\n",
    "]\n",
    "\n",
    "affine_results = model_traning_pipeline(affine, DATA_PATH)"
   ]
  },
  {
   "cell_type": "code",
   "execution_count": null,
   "metadata": {},
   "outputs": [],
   "source": [
    "callbacks = [\n",
    "    keras.callbacks.ModelCheckpoint(\n",
    "        filepath=\"effnet.keras\",\n",
    "        save_best_only=True,\n",
    "        monitor=\"val_loss\"\n",
    "    )\n",
    "]\n",
    "\n",
    "effnet_results = model_traning_pipeline(efficient_net, DATA_PATH)"
   ]
  },
  {
   "cell_type": "code",
   "execution_count": null,
   "metadata": {},
   "outputs": [],
   "source": [
    "for k in affine_results[\"history\"]:\n",
    "    print(k)"
   ]
  },
  {
   "cell_type": "code",
   "execution_count": null,
   "metadata": {},
   "outputs": [],
   "source": [
    "from scaler import Scaler\n",
    "import tensorflow as tf\n",
    "import polars as pl\n",
    "import numpy as np\n",
    "\n",
    "year = 1962\n",
    "id = 51871450111\n",
    "example = DATA_PATH + f\"/{year}/{id}.jpg\"\n",
    "\n",
    "def generate_pred_for_image(model: tf.keras.Model, img_path: str, target_size=(224, 224)) -> dict[str, np.ndarray]:\n",
    "    img = tf.io.read_file(img_path)\n",
    "    img = tf.image.decode_jpeg(img, channels=3)\n",
    "    img = tf.image.resize(img, target_size) #/ 255.0\n",
    "    img = tf.expand_dims(img, axis=0)\n",
    "\n",
    "    pred = model.predict(img)\n",
    "    return Scaler.descale_preds(pred)\n",
    "\n",
    "pred = generate_pred_for_image(effnet_results[\"model\"], example)\n",
    "pred"
   ]
  },
  {
   "cell_type": "code",
   "execution_count": null,
   "metadata": {},
   "outputs": [],
   "source": [
    "df = pl.read_csv(DATA_PATH + \"/metadata.csv\")\n",
    "df.filter(pl.col(\"id\") == id)"
   ]
  },
  {
   "cell_type": "code",
   "execution_count": null,
   "metadata": {},
   "outputs": [],
   "source": [
    "from data_loader import DataLoader\n",
    "\n",
    "data_loader = DataLoader(DATA_PATH)\n",
    "train_dataset, test_dataset = data_loader.dataset()\n",
    "\n",
    "for img, label in train_dataset.take(5):\n",
    "    print(f\"Image shape: {img.shape}\")\n",
    "    print(f\"Label: {label}\")"
   ]
  },
  {
   "cell_type": "code",
   "execution_count": null,
   "metadata": {},
   "outputs": [],
   "source": [
    "import matplotlib.pyplot as plt\n",
    "\n",
    "for img, label in train_dataset.take(5):\n",
    "    plt.imshow(img[0])\n",
    "    plt.title(f\"Year: {Scaler.descale_years(label[\"year\"].numpy()[0])}\")\n",
    "    plt.show()"
   ]
  }
 ],
 "metadata": {
  "kernelspec": {
   "display_name": "Python 3",
   "language": "python",
   "name": "python3"
  },
  "language_info": {
   "codemirror_mode": {
    "name": "ipython",
    "version": 3
   },
   "file_extension": ".py",
   "mimetype": "text/x-python",
   "name": "python",
   "nbconvert_exporter": "python",
   "pygments_lexer": "ipython3",
   "version": "3.12.8"
  }
 },
 "nbformat": 4,
 "nbformat_minor": 2
}
