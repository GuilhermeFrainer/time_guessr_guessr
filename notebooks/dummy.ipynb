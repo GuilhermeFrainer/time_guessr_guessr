{
 "cells": [
  {
   "cell_type": "code",
   "execution_count": 17,
   "metadata": {},
   "outputs": [],
   "source": [
    "import utils\n",
    "import pathlib\n",
    "utils.mount_src()\n",
    "\n",
    "from data_loader import DataLoader\n",
    "\n",
    "CONFIG = utils.load_config()\n",
    "DATA_PATH = CONFIG[\"images_path\"]\n",
    "MODEL_PATH = pathlib.Path(\"../models\")\n",
    "EPOCHS = 30\n",
    "INPUT_SHAPE = (224, 224, 3)"
   ]
  },
  {
   "cell_type": "code",
   "execution_count": 19,
   "metadata": {},
   "outputs": [],
   "source": [
    "from tensorflow.keras.models import Model\n",
    "from tensorflow.keras import layers\n",
    "import tensorflow as tf\n",
    "\n",
    "def create_dummy():\n",
    "    # Define input shape (224x224x3 for images)\n",
    "    input_shape = (224, 224, 3)\n",
    "\n",
    "    # Dummy architecture: just a single dense layer after flattening\n",
    "    inputs = Input(shape=input_shape)\n",
    "    x = layers.Rescaling(1./255)(inputs)\n",
    "    x = Dense(128, activation='relu')(inputs)  # Flatten step is skipped\n",
    "\n",
    "    output_year = tf.keras.layers.Dense(1, name=\"year\", activation=\"sigmoid\")(x)\n",
    "    output_lat = tf.keras.layers.Dense(1, name=\"lat\", activation=\"sigmoid\")(x)\n",
    "    output_lon = tf.keras.layers.Dense(1, name=\"lon\", activation=\"sigmoid\")(x)\n",
    "\n",
    "    return tf.keras.Model(inputs=inputs, outputs={\"year\": output_year, \"lat\": output_lat, \"lon\": output_lon})\n",
    "\n",
    "dummy = create_dummy()\n",
    "\n",
    "# Compile the model\n",
    "dummy.compile(optimizer='adam', loss='mse', metrics=['mae'])\n",
    "\n",
    "# Save the dummy model\n",
    "dummy.save(MODEL_PATH / \"dummy_model.keras\")"
   ]
  },
  {
   "cell_type": "code",
   "execution_count": 20,
   "metadata": {},
   "outputs": [],
   "source": [
    "from scaler import Scaler\n",
    "import numpy as np\n",
    "\n",
    "def generate_pred_for_image(model: tf.keras.Model, img_path: str, target_size=(224, 224)) -> dict[str, np.ndarray]:\n",
    "    img = tf.io.read_file(img_path)\n",
    "    img = tf.image.decode_jpeg(img, channels=3)\n",
    "    img = tf.image.resize(img, target_size)\n",
    "    img = tf.expand_dims(img, axis=0)\n",
    "\n",
    "    pred = model.predict(img)\n",
    "    return Scaler.descale_preds(pred)"
   ]
  },
  {
   "cell_type": "code",
   "execution_count": null,
   "metadata": {},
   "outputs": [],
   "source": [
    "from tensorflow.keras.models import load_model\n",
    "\n",
    "model = load_model(\"../models/dummy_model.keras\")\n",
    "image_path = \"C:\\\\Users\\\\guisf\\\\Downloads\\\\test.JPG\"\n",
    "\n",
    "pred = generate_pred_for_image(model, image_path)\n",
    "pred[\"year\"][0][0]\n"
   ]
  }
 ],
 "metadata": {
  "kernelspec": {
   "display_name": "Python 3",
   "language": "python",
   "name": "python3"
  },
  "language_info": {
   "codemirror_mode": {
    "name": "ipython",
    "version": 3
   },
   "file_extension": ".py",
   "mimetype": "text/x-python",
   "name": "python",
   "nbconvert_exporter": "python",
   "pygments_lexer": "ipython3",
   "version": "3.12.8"
  }
 },
 "nbformat": 4,
 "nbformat_minor": 2
}
