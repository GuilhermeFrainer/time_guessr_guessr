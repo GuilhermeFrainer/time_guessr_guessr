{
 "cells": [
  {
   "cell_type": "code",
   "execution_count": 1,
   "metadata": {},
   "outputs": [],
   "source": [
    "import polars as pl\n",
    "\n",
    "DATA_PATH = \"E:/30-39 Estudos/36 Mestrado/36.03 Deep learning para computação visual/Projeto/flickr_scraper/images\"\n",
    "METADATA = DATA_PATH + \"/metadata.csv\""
   ]
  },
  {
   "cell_type": "code",
   "execution_count": null,
   "metadata": {},
   "outputs": [],
   "source": [
    "df = pl.read_csv(METADATA)\n",
    "filepaths = DATA_PATH + \"/\" + df[\"year\"].cast(pl.String) + \"/\" + df[\"id\"].cast(pl.String) + \".jpg\"\n",
    "filepaths.head()"
   ]
  },
  {
   "cell_type": "code",
   "execution_count": null,
   "metadata": {},
   "outputs": [],
   "source": [
    "import filetype as ftp\n",
    "\n",
    "def is_gif(filename: str) -> bool:\n",
    "    guess = ftp.guess(filename)\n",
    "    return guess.mime == \"image/gif\"\n",
    "\n",
    "filepaths = DATA_PATH + \"/\" + df[\"year\"].cast(pl.String) + \"/\" + df[\"id\"].cast(pl.String) + \".jpg\"\n",
    "filepaths = filepaths.to_frame(name=\"filepath\")\n",
    "#is_gif_df = filepaths[\"filepath\"].map_elements(is_gif, return_dtype=pl.Boolean)\n",
    "is_gif_df = filepaths.select(pl.col(\"filepath\").map_batches(is_gif))\n",
    "is_gif_df"
   ]
  },
  {
   "cell_type": "code",
   "execution_count": null,
   "metadata": {},
   "outputs": [],
   "source": [
    "new_df = pl.concat((filepaths, is_gif_df.to_frame(name=\"is_gif\")), how=\"horizontal\")\n",
    "new_df"
   ]
  },
  {
   "cell_type": "code",
   "execution_count": null,
   "metadata": {},
   "outputs": [],
   "source": [
    "new_df.filter(pl.col(\"is_gif\"))"
   ]
  },
  {
   "cell_type": "code",
   "execution_count": null,
   "metadata": {},
   "outputs": [],
   "source": [
    "#def is_gif_col(df: pl.DataFrame) -> pl.DataFrame:\n",
    "df = pl.read_csv(METADATA)\n",
    "df = df.with_columns(\n",
    "    (\n",
    "        DATA_PATH + \"/\" + pl.col(\"year\").cast(pl.String) + \"/\" + pl.col(\"id\").cast(pl.String) + \".jpg\"\n",
    "    ).alias(\"filepath\")\n",
    ")\n",
    "df = df.with_columns(\n",
    "    (\n",
    "        df[\"filepath\"].map_elements(is_gif)\n",
    "    ).alias(\"is_gif\")\n",
    ")\n",
    "df\n",
    "#df.filter(~pl.col(\"is_gif\"))"
   ]
  },
  {
   "cell_type": "code",
   "execution_count": null,
   "metadata": {},
   "outputs": [],
   "source": [
    "def filter_out_gifs(df: pl.DataFrame) -> pl.DataFrame:\n",
    "    original_columns = df.columns\n",
    "    df = df.with_columns(\n",
    "    (\n",
    "        DATA_PATH + \"/\" + pl.col(\"year\").cast(pl.String) + \"/\" + pl.col(\"id\").cast(pl.String) + \".jpg\"\n",
    "    ).alias(\"filepath\")\n",
    "    )\n",
    "    df = df.with_columns(\n",
    "        (\n",
    "            df[\"filepath\"].map_elements(is_gif, return_dtype=pl.Boolean)\n",
    "        ).alias(\"is_gif\")\n",
    "    )\n",
    "    df = df.filter(~pl.col(\"is_gif\"))\n",
    "    return df.select(original_columns)\n",
    "\n",
    "df = pl.read_csv(METADATA)\n",
    "df = filter_out_gifs(df)\n",
    "df"
   ]
  }
 ],
 "metadata": {
  "kernelspec": {
   "display_name": "Python 3",
   "language": "python",
   "name": "python3"
  },
  "language_info": {
   "codemirror_mode": {
    "name": "ipython",
    "version": 3
   },
   "file_extension": ".py",
   "mimetype": "text/x-python",
   "name": "python",
   "nbconvert_exporter": "python",
   "pygments_lexer": "ipython3",
   "version": "3.12.8"
  }
 },
 "nbformat": 4,
 "nbformat_minor": 2
}
