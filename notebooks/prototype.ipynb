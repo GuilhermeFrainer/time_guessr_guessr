{
 "cells": [
  {
   "cell_type": "code",
   "execution_count": 7,
   "metadata": {},
   "outputs": [],
   "source": [
    "import tensorflow as tf\n",
    "import utils\n",
    "utils.mount_src()\n",
    "import data_loading\n",
    "\n",
    "CONFIG = utils.load_config()\n",
    "IMAGES_PATH = CONFIG[\"images_path\"]\n",
    "DATA_PATH = IMAGES_PATH + \"/1900\"\n",
    "BATCH_SIZE = 32\n",
    "INPUT_SHAPE = (224, 224, 3)\n",
    "EPOCHS = 10\n",
    "\n",
    "EXAMPLE_IMAGE = DATA_PATH + \"/194028115.jpg\"\n",
    "METADATA_CSV = DATA_PATH + \"/metadata.csv\"\n",
    "IMAGE_ID = \"194028115\""
   ]
  },
  {
   "cell_type": "code",
   "execution_count": 9,
   "metadata": {},
   "outputs": [],
   "source": [
    "images, labels = data_loading.__load_data_for_year(DATA_PATH)\n",
    "dataset = tf.data.Dataset.from_tensor_slices((images, labels))\n",
    "dataset = dataset.shuffle(buffer_size=1000).batch(BATCH_SIZE).prefetch(tf.data.AUTOTUNE)\n",
    "\n",
    "train_split = int(0.8 * len(images))\n",
    "train_dataset = dataset.take(train_split)\n",
    "val_dataset = dataset.skip(train_split)"
   ]
  },
  {
   "cell_type": "code",
   "execution_count": 10,
   "metadata": {},
   "outputs": [],
   "source": [
    "from tensorflow.keras.applications import ResNet50\n",
    "from tensorflow.keras import layers, models\n",
    "from tensorflow.keras import Model\n",
    "\n",
    "\n",
    "def create_pretrained_model(input_shape: tuple[int, int]) -> Model:\n",
    "    base_model = ResNet50(weights=\"imagenet\", include_top=False, input_shape=input_shape)\n",
    "    base_model.trainable = False\n",
    "\n",
    "    model = models.Sequential([\n",
    "        base_model,\n",
    "        layers.GlobalAveragePooling2D(),\n",
    "        layers.Dense(128, activation=\"relu\"),\n",
    "        #layers.Dropout(0.5),\n",
    "        layers.Dense(3)\n",
    "    ])\n",
    "    return model"
   ]
  },
  {
   "cell_type": "code",
   "execution_count": null,
   "metadata": {},
   "outputs": [],
   "source": [
    "model = create_pretrained_model(INPUT_SHAPE)\n",
    "model.compile(optimizer=\"adam\", loss=\"mse\", metrics=[\"mae\"])\n",
    "model.summary()"
   ]
  },
  {
   "cell_type": "code",
   "execution_count": null,
   "metadata": {},
   "outputs": [],
   "source": [
    "history = model.fit(\n",
    "    train_dataset,\n",
    "    validation_data=val_dataset,\n",
    "    epochs=EPOCHS\n",
    ")\n",
    "history"
   ]
  },
  {
   "cell_type": "code",
   "execution_count": null,
   "metadata": {},
   "outputs": [],
   "source": [
    "import matplotlib.pyplot as plt\n",
    "mae = history.history[\"mae\"]\n",
    "loss = history.history[\"loss\"]\n",
    "\n",
    "epochs = range(1, len(mae) + 1)\n",
    "plt.plot(epochs, mae)\n",
    "plt.figure()\n",
    "plt.plot(epochs, loss)"
   ]
  },
  {
   "cell_type": "code",
   "execution_count": null,
   "metadata": {},
   "outputs": [],
   "source": [
    "import numpy as np\n",
    "from tensorflow.keras.utils import img_to_array, load_img\n",
    "\n",
    "def load_image_to_shape(file_path: str, target_size: tuple[int, int]) -> np.ndarray:\n",
    "    img = load_img(file_path, target_size=target_size)\n",
    "    arr = img_to_array(img) / 255.0\n",
    "    return np.expand_dims(arr, axis=0) # Adds batch dimension (necessary)\n",
    "\n",
    "img = load_image_to_shape(EXAMPLE_IMAGE, INPUT_SHAPE)\n",
    "pred = model.predict(img)\n",
    "pred"
   ]
  },
  {
   "cell_type": "code",
   "execution_count": 31,
   "metadata": {},
   "outputs": [],
   "source": [
    "# Descaling\n",
    "from sklearn.preprocessing import MinMaxScaler\n",
    "import polars as pl\n",
    "\n",
    "df = pl.read_csv(METADATA_CSV)\n",
    "df = df.unique([\"id\", \"year\", \"latitude\", \"longitude\"]).select([\"year\", \"latitude\", \"longitude\"])\n",
    "\n",
    "labels = []\n",
    "for r in df.iter_rows():\n",
    "    labels.append(r)\n",
    "labels = np.array(labels)\n",
    "\n",
    "scaler = MinMaxScaler()\n",
    "labels[:, 1:] = scaler.fit_transform(labels[:, 1:])"
   ]
  },
  {
   "cell_type": "code",
   "execution_count": null,
   "metadata": {},
   "outputs": [],
   "source": [
    "descaled_pred = scaler.inverse_transform(pred[:, 1:])\n",
    "descaled_pred"
   ]
  }
 ],
 "metadata": {
  "kernelspec": {
   "display_name": "Python 3",
   "language": "python",
   "name": "python3"
  },
  "language_info": {
   "codemirror_mode": {
    "name": "ipython",
    "version": 3
   },
   "file_extension": ".py",
   "mimetype": "text/x-python",
   "name": "python",
   "nbconvert_exporter": "python",
   "pygments_lexer": "ipython3",
   "version": "3.12.8"
  }
 },
 "nbformat": 4,
 "nbformat_minor": 2
}
